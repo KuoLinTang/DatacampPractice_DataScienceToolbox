{
 "cells": [
  {
   "cell_type": "markdown",
   "id": "sealed-relative",
   "metadata": {},
   "source": [
    "# Error Handling"
   ]
  },
  {
   "cell_type": "markdown",
   "id": "royal-following",
   "metadata": {},
   "source": [
    "以float function為例，可以傳入integer，也可以傳入字串型態的數字"
   ]
  },
  {
   "cell_type": "code",
   "execution_count": 5,
   "id": "simplified-charter",
   "metadata": {},
   "outputs": [
    {
     "name": "stdout",
     "output_type": "stream",
     "text": [
      "1.5\n",
      "1.5\n"
     ]
    }
   ],
   "source": [
    "print(float(1.5))\n",
    "print(float(\"1.5\"))"
   ]
  },
  {
   "cell_type": "code",
   "execution_count": 6,
   "id": "special-escape",
   "metadata": {
    "scrolled": true
   },
   "outputs": [
    {
     "ename": "ValueError",
     "evalue": "could not convert string to float: 'float'",
     "output_type": "error",
     "traceback": [
      "\u001b[1;31m---------------------------------------------------------------------------\u001b[0m",
      "\u001b[1;31mValueError\u001b[0m                                Traceback (most recent call last)",
      "\u001b[1;32m<ipython-input-6-c1a1c2869b64>\u001b[0m in \u001b[0;36m<module>\u001b[1;34m\u001b[0m\n\u001b[1;32m----> 1\u001b[1;33m \u001b[0mprint\u001b[0m\u001b[1;33m(\u001b[0m\u001b[0mfloat\u001b[0m\u001b[1;33m(\u001b[0m\u001b[1;34m\"float\"\u001b[0m\u001b[1;33m)\u001b[0m\u001b[1;33m)\u001b[0m\u001b[1;33m\u001b[0m\u001b[1;33m\u001b[0m\u001b[0m\n\u001b[0m",
      "\u001b[1;31mValueError\u001b[0m: could not convert string to float: 'float'"
     ]
    }
   ],
   "source": [
    "print(float(\"float\"))"
   ]
  },
  {
   "cell_type": "code",
   "execution_count": 3,
   "id": "coated-twins",
   "metadata": {},
   "outputs": [
    {
     "name": "stdout",
     "output_type": "stream",
     "text": [
      "error!\n"
     ]
    }
   ],
   "source": [
    "try:\n",
    "    float(\"float\")\n",
    "except:\n",
    "    print(\"error!\")"
   ]
  },
  {
   "cell_type": "markdown",
   "id": "fallen-bottle",
   "metadata": {},
   "source": [
    "當自己寫函數的時候，可以用try-error來限制傳入參數的類型\n",
    "\n",
    "Python會試著跑完try內部的程式碼，如果跑完沒出現error，則很棒；當try內部程式碼出現error時，會跳到except去執行"
   ]
  },
  {
   "cell_type": "code",
   "execution_count": 15,
   "id": "sweet-disposition",
   "metadata": {},
   "outputs": [],
   "source": [
    "def sqrt(x):\n",
    "    \"\"\"Return square root of input value\"\"\"\n",
    "    return x ** 0.5"
   ]
  },
  {
   "cell_type": "code",
   "execution_count": 16,
   "id": "acoustic-money",
   "metadata": {},
   "outputs": [
    {
     "data": {
      "text/plain": [
       "1.7320508075688772"
      ]
     },
     "execution_count": 16,
     "metadata": {},
     "output_type": "execute_result"
    }
   ],
   "source": [
    "sqrt(3)"
   ]
  },
  {
   "cell_type": "code",
   "execution_count": 17,
   "id": "exempt-workshop",
   "metadata": {
    "scrolled": false
   },
   "outputs": [
    {
     "ename": "TypeError",
     "evalue": "unsupported operand type(s) for ** or pow(): 'str' and 'float'",
     "output_type": "error",
     "traceback": [
      "\u001b[1;31m---------------------------------------------------------------------------\u001b[0m",
      "\u001b[1;31mTypeError\u001b[0m                                 Traceback (most recent call last)",
      "\u001b[1;32m<ipython-input-17-ab9eb0f8cd0f>\u001b[0m in \u001b[0;36m<module>\u001b[1;34m\u001b[0m\n\u001b[1;32m----> 1\u001b[1;33m \u001b[0msqrt\u001b[0m\u001b[1;33m(\u001b[0m\u001b[1;34m\"hello\"\u001b[0m\u001b[1;33m)\u001b[0m\u001b[1;33m\u001b[0m\u001b[1;33m\u001b[0m\u001b[0m\n\u001b[0m",
      "\u001b[1;32m<ipython-input-15-681c2b2053b3>\u001b[0m in \u001b[0;36msqrt\u001b[1;34m(x)\u001b[0m\n\u001b[0;32m      1\u001b[0m \u001b[1;32mdef\u001b[0m \u001b[0msqrt\u001b[0m\u001b[1;33m(\u001b[0m\u001b[0mx\u001b[0m\u001b[1;33m)\u001b[0m\u001b[1;33m:\u001b[0m\u001b[1;33m\u001b[0m\u001b[1;33m\u001b[0m\u001b[0m\n\u001b[0;32m      2\u001b[0m     \u001b[1;34m\"\"\"Return square root of input value\"\"\"\u001b[0m\u001b[1;33m\u001b[0m\u001b[1;33m\u001b[0m\u001b[0m\n\u001b[1;32m----> 3\u001b[1;33m     \u001b[1;32mreturn\u001b[0m \u001b[0mx\u001b[0m \u001b[1;33m**\u001b[0m \u001b[1;36m0.5\u001b[0m\u001b[1;33m\u001b[0m\u001b[1;33m\u001b[0m\u001b[0m\n\u001b[0m",
      "\u001b[1;31mTypeError\u001b[0m: unsupported operand type(s) for ** or pow(): 'str' and 'float'"
     ]
    }
   ],
   "source": [
    "sqrt(\"hello\")"
   ]
  },
  {
   "cell_type": "markdown",
   "id": "diagnostic-collaboration",
   "metadata": {},
   "source": [
    "加入Try-except"
   ]
  },
  {
   "cell_type": "code",
   "execution_count": 18,
   "id": "lyric-mileage",
   "metadata": {},
   "outputs": [],
   "source": [
    "def sqrt_fixed(x):\n",
    "    \"\"\"Return square root of input value\"\"\"\n",
    "    try:\n",
    "        return x ** 0.5\n",
    "    except:\n",
    "        print(\"Input value should be an int or float\")"
   ]
  },
  {
   "cell_type": "code",
   "execution_count": 19,
   "id": "planned-surrey",
   "metadata": {
    "scrolled": true
   },
   "outputs": [
    {
     "name": "stdout",
     "output_type": "stream",
     "text": [
      "Input value should be an int or float\n"
     ]
    }
   ],
   "source": [
    "sqrt_fixed(\"Hello\")"
   ]
  },
  {
   "cell_type": "markdown",
   "id": "quiet-crack",
   "metadata": {},
   "source": [
    "另外，也可以只抓try中發生的某個error，其餘直接出錯"
   ]
  },
  {
   "cell_type": "code",
   "execution_count": 20,
   "id": "economic-vegetation",
   "metadata": {},
   "outputs": [],
   "source": [
    "def sqrt_fixed(x):\n",
    "    \"\"\"Return square root of input value\"\"\"\n",
    "    try:\n",
    "        return x ** 0.5\n",
    "    except TypeError:\n",
    "        print(\"Input value should be an int or float\")"
   ]
  },
  {
   "cell_type": "code",
   "execution_count": 21,
   "id": "laughing-ridge",
   "metadata": {},
   "outputs": [
    {
     "name": "stdout",
     "output_type": "stream",
     "text": [
      "Input value should be an int or float\n"
     ]
    }
   ],
   "source": [
    "sqrt_fixed(\"Hello\")"
   ]
  },
  {
   "cell_type": "code",
   "execution_count": 22,
   "id": "daily-museum",
   "metadata": {},
   "outputs": [
    {
     "data": {
      "text/plain": [
       "(6.123233995736766e-17+1j)"
      ]
     },
     "execution_count": 22,
     "metadata": {},
     "output_type": "execute_result"
    }
   ],
   "source": [
    "sqrt_fixed(-1)"
   ]
  },
  {
   "cell_type": "markdown",
   "id": "moved-plane",
   "metadata": {},
   "source": [
    "最後，也可以自己 \"raise\" 定義一個error message\n",
    "\n",
    "利用raise來達成。當error發生時，程式中斷"
   ]
  },
  {
   "cell_type": "code",
   "execution_count": 25,
   "id": "biological-brazilian",
   "metadata": {},
   "outputs": [],
   "source": [
    "# 假設我不想要處理負數的平方根\n",
    "def sqrt_fixed(x):\n",
    "    \"\"\"Return square root of input value\"\"\"\n",
    "    if x < 0:\n",
    "        raise ValueError(\"Input value should be positive\")\n",
    "    try:\n",
    "        return x ** 0.5\n",
    "    except TypeError:\n",
    "        print(\"Input value should be an int or float\")"
   ]
  },
  {
   "cell_type": "code",
   "execution_count": 26,
   "id": "incredible-first",
   "metadata": {},
   "outputs": [
    {
     "ename": "ValueError",
     "evalue": "Input value should be positive",
     "output_type": "error",
     "traceback": [
      "\u001b[1;31m---------------------------------------------------------------------------\u001b[0m",
      "\u001b[1;31mValueError\u001b[0m                                Traceback (most recent call last)",
      "\u001b[1;32m<ipython-input-26-df31a6ed2553>\u001b[0m in \u001b[0;36m<module>\u001b[1;34m\u001b[0m\n\u001b[1;32m----> 1\u001b[1;33m \u001b[0msqrt_fixed\u001b[0m\u001b[1;33m(\u001b[0m\u001b[1;33m-\u001b[0m\u001b[1;36m1\u001b[0m\u001b[1;33m)\u001b[0m\u001b[1;33m\u001b[0m\u001b[1;33m\u001b[0m\u001b[0m\n\u001b[0m",
      "\u001b[1;32m<ipython-input-25-733776df1ac0>\u001b[0m in \u001b[0;36msqrt_fixed\u001b[1;34m(x)\u001b[0m\n\u001b[0;32m      3\u001b[0m     \u001b[1;34m\"\"\"Return square root of input value\"\"\"\u001b[0m\u001b[1;33m\u001b[0m\u001b[1;33m\u001b[0m\u001b[0m\n\u001b[0;32m      4\u001b[0m     \u001b[1;32mif\u001b[0m \u001b[0mx\u001b[0m \u001b[1;33m<\u001b[0m \u001b[1;36m0\u001b[0m\u001b[1;33m:\u001b[0m\u001b[1;33m\u001b[0m\u001b[1;33m\u001b[0m\u001b[0m\n\u001b[1;32m----> 5\u001b[1;33m         \u001b[1;32mraise\u001b[0m \u001b[0mValueError\u001b[0m\u001b[1;33m(\u001b[0m\u001b[1;34m\"Input value should be positive\"\u001b[0m\u001b[1;33m)\u001b[0m\u001b[1;33m\u001b[0m\u001b[1;33m\u001b[0m\u001b[0m\n\u001b[0m\u001b[0;32m      6\u001b[0m     \u001b[1;32mtry\u001b[0m\u001b[1;33m:\u001b[0m\u001b[1;33m\u001b[0m\u001b[1;33m\u001b[0m\u001b[0m\n\u001b[0;32m      7\u001b[0m         \u001b[1;32mreturn\u001b[0m \u001b[0mx\u001b[0m \u001b[1;33m**\u001b[0m \u001b[1;36m0.5\u001b[0m\u001b[1;33m\u001b[0m\u001b[1;33m\u001b[0m\u001b[0m\n",
      "\u001b[1;31mValueError\u001b[0m: Input value should be positive"
     ]
    }
   ],
   "source": [
    "sqrt_fixed(-1)"
   ]
  },
  {
   "cell_type": "markdown",
   "id": "brown-disclosure",
   "metadata": {},
   "source": [
    "最後要注意用到任何python的error時，名稱要正確"
   ]
  }
 ],
 "metadata": {
  "kernelspec": {
   "display_name": "Python 3",
   "language": "python",
   "name": "python3"
  },
  "language_info": {
   "codemirror_mode": {
    "name": "ipython",
    "version": 3
   },
   "file_extension": ".py",
   "mimetype": "text/x-python",
   "name": "python",
   "nbconvert_exporter": "python",
   "pygments_lexer": "ipython3",
   "version": "3.7.9"
  }
 },
 "nbformat": 4,
 "nbformat_minor": 5
}
