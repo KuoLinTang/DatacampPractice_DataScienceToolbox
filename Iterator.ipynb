{
 "cells": [
  {
   "cell_type": "markdown",
   "id": "julian-fiber",
   "metadata": {},
   "source": [
    "# Iterator"
   ]
  },
  {
   "cell_type": "code",
   "execution_count": 2,
   "id": "nuclear-bibliography",
   "metadata": {},
   "outputs": [
    {
     "data": {
      "text/plain": [
       "<str_iterator at 0x1f48bd8c988>"
      ]
     },
     "execution_count": 2,
     "metadata": {},
     "output_type": "execute_result"
    }
   ],
   "source": [
    "a = \"Tang\"\n",
    "it = iter(a)\n",
    "it"
   ]
  },
  {
   "cell_type": "markdown",
   "id": "pressing-boards",
   "metadata": {},
   "source": [
    "a是一個iterable，而it是一個iterator\n",
    "\n",
    "iterable有list, tuple, dictionary, file connection, range objects"
   ]
  },
  {
   "cell_type": "code",
   "execution_count": 3,
   "id": "objective-chance",
   "metadata": {},
   "outputs": [
    {
     "data": {
      "text/plain": [
       "'T'"
      ]
     },
     "execution_count": 3,
     "metadata": {},
     "output_type": "execute_result"
    }
   ],
   "source": [
    "# 第一次對iterator用next就會回傳原始iterable的第一個東西\n",
    "next(it)"
   ]
  },
  {
   "cell_type": "code",
   "execution_count": 4,
   "id": "requested-digit",
   "metadata": {},
   "outputs": [
    {
     "data": {
      "text/plain": [
       "'a'"
      ]
     },
     "execution_count": 4,
     "metadata": {},
     "output_type": "execute_result"
    }
   ],
   "source": [
    "next(it)"
   ]
  },
  {
   "cell_type": "code",
   "execution_count": 5,
   "id": "hairy-resort",
   "metadata": {},
   "outputs": [
    {
     "data": {
      "text/plain": [
       "'n'"
      ]
     },
     "execution_count": 5,
     "metadata": {},
     "output_type": "execute_result"
    }
   ],
   "source": [
    "next(it)"
   ]
  },
  {
   "cell_type": "code",
   "execution_count": 6,
   "id": "ecological-lover",
   "metadata": {},
   "outputs": [
    {
     "data": {
      "text/plain": [
       "'g'"
      ]
     },
     "execution_count": 6,
     "metadata": {},
     "output_type": "execute_result"
    }
   ],
   "source": [
    "next(it)"
   ]
  },
  {
   "cell_type": "code",
   "execution_count": 7,
   "id": "cooked-spare",
   "metadata": {},
   "outputs": [
    {
     "ename": "StopIteration",
     "evalue": "",
     "output_type": "error",
     "traceback": [
      "\u001b[1;31m---------------------------------------------------------------------------\u001b[0m",
      "\u001b[1;31mStopIteration\u001b[0m                             Traceback (most recent call last)",
      "\u001b[1;32m<ipython-input-7-bc1ab118995a>\u001b[0m in \u001b[0;36m<module>\u001b[1;34m\u001b[0m\n\u001b[1;32m----> 1\u001b[1;33m \u001b[0mnext\u001b[0m\u001b[1;33m(\u001b[0m\u001b[0mit\u001b[0m\u001b[1;33m)\u001b[0m\u001b[1;33m\u001b[0m\u001b[1;33m\u001b[0m\u001b[0m\n\u001b[0m",
      "\u001b[1;31mStopIteration\u001b[0m: "
     ]
    }
   ],
   "source": [
    "next(it)"
   ]
  },
  {
   "cell_type": "markdown",
   "id": "outstanding-partnership",
   "metadata": {},
   "source": [
    "也可以用 * 一次印出全部\n",
    "\n",
    "另外，每次用過 next或* 之後，it內就沒東西了，因此繼續print(* it)或next(it)會出錯，因此這裡要再宣告一次it"
   ]
  },
  {
   "cell_type": "code",
   "execution_count": 9,
   "id": "specialized-defensive",
   "metadata": {},
   "outputs": [
    {
     "name": "stdout",
     "output_type": "stream",
     "text": [
      "T a n g\n"
     ]
    }
   ],
   "source": [
    "it = iter(a)\n",
    "print(*it)"
   ]
  },
  {
   "cell_type": "markdown",
   "id": "exterior-tulsa",
   "metadata": {},
   "source": [
    "另外，dictionaries和files也是iterable，只是不能用一般的方法\n",
    "\n",
    "想要用dictionary來iterate，必須unpack該dictionary"
   ]
  },
  {
   "cell_type": "code",
   "execution_count": 11,
   "id": "martial-pizza",
   "metadata": {},
   "outputs": [
    {
     "name": "stdout",
     "output_type": "stream",
     "text": [
      "Joseph Tang\n",
      "Shiang Yang\n"
     ]
    }
   ],
   "source": [
    "people = {\"Joseph\":\"Tang\", \"Shiang\":\"Yang\"}\n",
    "for key, value in people.items():\n",
    "    print(key, value)"
   ]
  },
  {
   "cell_type": "code",
   "execution_count": 12,
   "id": "altered-yugoslavia",
   "metadata": {},
   "outputs": [
    {
     "data": {
      "text/plain": [
       "dict_items"
      ]
     },
     "execution_count": 12,
     "metadata": {},
     "output_type": "execute_result"
    }
   ],
   "source": [
    "#items函數會將非序列資料的dictionary轉變成可以iterate的dict_items物件\n",
    "type(people.items())"
   ]
  },
  {
   "cell_type": "markdown",
   "id": "underlying-hartford",
   "metadata": {},
   "source": [
    "File connection 也可以用 next和* 來iterate"
   ]
  },
  {
   "cell_type": "code",
   "execution_count": 13,
   "id": "ruled-experiment",
   "metadata": {},
   "outputs": [
    {
     "name": "stdout",
     "output_type": "stream",
     "text": [
      "1\n",
      " 2\n",
      " 3\n",
      " 4\n",
      " 5\n",
      " 6\n",
      " 7\n",
      " 8\n",
      " 9\n",
      " 10\n"
     ]
    }
   ],
   "source": [
    "file = open(\"test.txt\")\n",
    "it = iter(file)\n",
    "print(*it)"
   ]
  },
  {
   "cell_type": "code",
   "execution_count": 14,
   "id": "adaptive-chambers",
   "metadata": {},
   "outputs": [
    {
     "data": {
      "text/plain": [
       "'1\\n'"
      ]
     },
     "execution_count": 14,
     "metadata": {},
     "output_type": "execute_result"
    }
   ],
   "source": [
    "file = open(\"test.txt\")\n",
    "it = iter(file)\n",
    "next(it)"
   ]
  },
  {
   "cell_type": "markdown",
   "id": "extensive-outline",
   "metadata": {},
   "source": [
    "# Enumerate\n",
    "\n",
    "enumerate() 可以輸入任何iterable argument (如list)，並回傳一個enumerate object"
   ]
  },
  {
   "cell_type": "code",
   "execution_count": 30,
   "id": "convertible-junction",
   "metadata": {
    "scrolled": true
   },
   "outputs": [
    {
     "data": {
      "text/plain": [
       "<enumerate at 0x1f48be6b188>"
      ]
     },
     "execution_count": 30,
     "metadata": {},
     "output_type": "execute_result"
    }
   ],
   "source": [
    "avengers = ['iron man', 'thor', 'captain america']\n",
    "e = enumerate(avengers)\n",
    "e"
   ]
  },
  {
   "cell_type": "code",
   "execution_count": 26,
   "id": "strategic-reverse",
   "metadata": {},
   "outputs": [
    {
     "data": {
      "text/plain": [
       "(0, 'iron man')"
      ]
     },
     "execution_count": 26,
     "metadata": {},
     "output_type": "execute_result"
    }
   ],
   "source": [
    "next(e)"
   ]
  },
  {
   "cell_type": "code",
   "execution_count": 27,
   "id": "suffering-western",
   "metadata": {},
   "outputs": [
    {
     "data": {
      "text/plain": [
       "(1, 'thor')"
      ]
     },
     "execution_count": 27,
     "metadata": {},
     "output_type": "execute_result"
    }
   ],
   "source": [
    "next(e)"
   ]
  },
  {
   "cell_type": "code",
   "execution_count": 28,
   "id": "advanced-eating",
   "metadata": {},
   "outputs": [
    {
     "data": {
      "text/plain": [
       "(2, 'captain america')"
      ]
     },
     "execution_count": 28,
     "metadata": {},
     "output_type": "execute_result"
    }
   ],
   "source": [
    "next(e)"
   ]
  },
  {
   "cell_type": "code",
   "execution_count": 32,
   "id": "technical-white",
   "metadata": {},
   "outputs": [
    {
     "name": "stdout",
     "output_type": "stream",
     "text": [
      "(0, 'iron man') (1, 'thor') (2, 'captain america')\n"
     ]
    }
   ],
   "source": [
    "print(*e)"
   ]
  },
  {
   "cell_type": "markdown",
   "id": "protected-invite",
   "metadata": {},
   "source": [
    "此enumerate object包含了三個pairs，每個pairs由index和value組成 (每個pair為一個tuple object)\n",
    "\n",
    "另外，每次用過 next 或 * 或 list 之後，e內就沒東西了，因此繼續print(* e)或next(e)會出錯，因此這裡要再宣告一次e"
   ]
  },
  {
   "cell_type": "code",
   "execution_count": 33,
   "id": "mobile-nudist",
   "metadata": {},
   "outputs": [
    {
     "data": {
      "text/plain": [
       "[(0, 'iron man'), (1, 'thor'), (2, 'captain america')]"
      ]
     },
     "execution_count": 33,
     "metadata": {},
     "output_type": "execute_result"
    }
   ],
   "source": [
    "e = enumerate(avengers)\n",
    "list(e)"
   ]
  },
  {
   "cell_type": "code",
   "execution_count": 34,
   "id": "baking-outreach",
   "metadata": {},
   "outputs": [
    {
     "name": "stdout",
     "output_type": "stream",
     "text": [
      "0 iron man\n",
      "1 thor\n",
      "2 captain america\n"
     ]
    }
   ],
   "source": [
    "for index, value in enumerate(avengers):\n",
    "    print(index, value)"
   ]
  },
  {
   "cell_type": "markdown",
   "id": "sophisticated-performer",
   "metadata": {},
   "source": [
    "#### 由此可見，之所以讓iterator被看過一次就消失，是因為迴圈執行完後不需要繼續留著iterator\n",
    "\n",
    "另外，也可以透過傳入不同的argument進enumerator中來改變index的起始值，如下"
   ]
  },
  {
   "cell_type": "code",
   "execution_count": 35,
   "id": "widespread-burke",
   "metadata": {},
   "outputs": [
    {
     "name": "stdout",
     "output_type": "stream",
     "text": [
      "10 iron man\n",
      "11 thor\n",
      "12 captain america\n"
     ]
    }
   ],
   "source": [
    "for index, value in enumerate(avengers, start = 10):\n",
    "    print(index, value)"
   ]
  },
  {
   "cell_type": "markdown",
   "id": "pretty-perspective",
   "metadata": {},
   "source": [
    "---"
   ]
  },
  {
   "cell_type": "markdown",
   "id": "occasional-tournament",
   "metadata": {},
   "source": [
    "# Zip\n",
    "\n",
    "zip() 會將兩個iterable物件合併"
   ]
  },
  {
   "cell_type": "code",
   "execution_count": 46,
   "id": "informed-literacy",
   "metadata": {
    "scrolled": true
   },
   "outputs": [
    {
     "data": {
      "text/plain": [
       "zip"
      ]
     },
     "execution_count": 46,
     "metadata": {},
     "output_type": "execute_result"
    }
   ],
   "source": [
    "student = [\"Joseph\", \"Shiang\"]\n",
    "course = [\"BA\", \"MISDI\"]\n",
    "\n",
    "z = zip(student, course)\n",
    "type(z)"
   ]
  },
  {
   "cell_type": "code",
   "execution_count": 47,
   "id": "super-cream",
   "metadata": {},
   "outputs": [
    {
     "name": "stdout",
     "output_type": "stream",
     "text": [
      "('Joseph', 'BA') ('Shiang', 'MISDI')\n"
     ]
    }
   ],
   "source": [
    "print(*z)"
   ]
  },
  {
   "cell_type": "markdown",
   "id": "spectacular-tissue",
   "metadata": {},
   "source": [
    "zip() 會將兩個相同長的iterables根據相同的index合併成一個個pairs，每個pairs都是一個tuple"
   ]
  },
  {
   "cell_type": "code",
   "execution_count": 49,
   "id": "detailed-analyst",
   "metadata": {},
   "outputs": [
    {
     "data": {
      "text/plain": [
       "[('Joseph', 'BA'), ('Shiang', 'MISDI')]"
      ]
     },
     "execution_count": 49,
     "metadata": {},
     "output_type": "execute_result"
    }
   ],
   "source": [
    "z = zip(student, course)\n",
    "list(z)"
   ]
  },
  {
   "cell_type": "markdown",
   "id": "disturbed-history",
   "metadata": {},
   "source": [
    "zip物件跟enumerator和iter物件一樣 <br/>\n",
    "每次用過 next 或 * 或 list 之後，z內就沒東西了，因此繼續print(* z)或next(z)會出錯，因此這裡要再宣告一次z"
   ]
  },
  {
   "cell_type": "code",
   "execution_count": 50,
   "id": "refined-privilege",
   "metadata": {},
   "outputs": [
    {
     "name": "stdout",
     "output_type": "stream",
     "text": [
      "Joseph BA\n",
      "Shiang MISDI\n"
     ]
    }
   ],
   "source": [
    "for z1, z2 in zip(student, course):\n",
    "    print(z1, z2)"
   ]
  },
  {
   "cell_type": "markdown",
   "id": "formed-latin",
   "metadata": {},
   "source": [
    "Unzip a zip object \n",
    "\n",
    "一樣用zip也可以將zip object轉換成一兩個tuples，只要在zip object前面加上 *"
   ]
  },
  {
   "cell_type": "code",
   "execution_count": 51,
   "id": "northern-hungarian",
   "metadata": {},
   "outputs": [],
   "source": [
    "z = zip(student, course)"
   ]
  },
  {
   "cell_type": "code",
   "execution_count": 52,
   "id": "streaming-peripheral",
   "metadata": {},
   "outputs": [
    {
     "name": "stdout",
     "output_type": "stream",
     "text": [
      "('Joseph', 'Shiang') ('BA', 'MISDI')\n"
     ]
    }
   ],
   "source": [
    "a1, a2 = zip(*z)\n",
    "print(a1, a2)"
   ]
  },
  {
   "cell_type": "markdown",
   "id": "extensive-carbon",
   "metadata": {},
   "source": [
    "---"
   ]
  },
  {
   "cell_type": "markdown",
   "id": "instructional-cosmetic",
   "metadata": {},
   "source": [
    "## Use iterators to load large files into memory"
   ]
  },
  {
   "cell_type": "markdown",
   "id": "psychological-liberal",
   "metadata": {},
   "source": [
    "There can be too much data to hold in memory, so sometimes we have to load data in chunks. \n",
    "\n",
    "Then, perform the desire operation or operations on each chunk, store the result, and discard the chunk.\n",
    "\n",
    "Later, load the next chunk and do the same"
   ]
  },
  {
   "cell_type": "markdown",
   "id": "separated-cylinder",
   "metadata": {},
   "source": [
    "### Implementation using Pandas read_csv function\n",
    "\n",
    "我們可以透過傳入chunksize這個argument的方式來實踐上述的data loading模式 <br/>\n",
    "這也代表加入chunksize的read_csv回傳的物件為iterator"
   ]
  },
  {
   "cell_type": "markdown",
   "id": "amended-satin",
   "metadata": {},
   "source": [
    "#### 舉例\n",
    "假設有個csv data中有一個column為x，今天我們要計算column x的所有數的總和 <br/>\n",
    "然而，這個data太大了，沒辦法一次就全部放進memory中，因此必須用chunk的方式來實踐"
   ]
  },
  {
   "cell_type": "code",
   "execution_count": null,
   "id": "electrical-offset",
   "metadata": {},
   "outputs": [],
   "source": [
    "import pandas as pd\n",
    "result = []\n",
    "for chunk in pd.read_csv('data.csv', chunksize = 1000):\n",
    "    result.append(sum(chunk[\"x\"]))\n",
    "total = sum(result)\n",
    "print(total)"
   ]
  }
 ],
 "metadata": {
  "kernelspec": {
   "display_name": "Python 3",
   "language": "python",
   "name": "python3"
  },
  "language_info": {
   "codemirror_mode": {
    "name": "ipython",
    "version": 3
   },
   "file_extension": ".py",
   "mimetype": "text/x-python",
   "name": "python",
   "nbconvert_exporter": "python",
   "pygments_lexer": "ipython3",
   "version": "3.7.9"
  }
 },
 "nbformat": 4,
 "nbformat_minor": 5
}
